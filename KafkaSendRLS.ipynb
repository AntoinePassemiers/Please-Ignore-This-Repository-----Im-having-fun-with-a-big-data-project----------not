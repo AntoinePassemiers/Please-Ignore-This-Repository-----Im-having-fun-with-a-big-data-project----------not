{
 "cells": [
  {
   "cell_type": "markdown",
   "metadata": {},
   "source": [
    "## Sending data to Kafka server\n",
    "\n",
    "This notebook relies on the Kafka Python client for sending messages to the Kafka cluster.\n",
    "Messages are data generated from a linear model with $n$ input variables and $m$ output variables:\n",
    "\n",
    "$$\n",
    "y_j = B_{\\dot j} x + w\n",
    "$$\n",
    "with $x \\in \\mathbb{R}^n$, $B \\in \\mathbb{n \\times m}$ and $y, w \\in \\mathbb{R}^m$.\n",
    "$w$ is Gaussian noise.\n",
    "\n",
    "Messages are sent every $interval$ seconds. They are list of size (n+m+1) where:\n",
    "* First element is the counter\n",
    "* Next $m$ elements are $y$ values\n",
    "* Last $n$ elements are $x$ values"
   ]
  },
  {
   "cell_type": "markdown",
   "metadata": {},
   "source": [
    "### General import"
   ]
  },
  {
   "cell_type": "code",
   "execution_count": 14,
   "metadata": {},
   "outputs": [],
   "source": [
    "from kafka import KafkaProducer\n",
    "import time\n",
    "import numpy as np\n",
    "import matplotlib as plt"
   ]
  },
  {
   "cell_type": "markdown",
   "metadata": {},
   "source": [
    "### Initialization of the Kafka producer\n",
    "\n",
    "The server is assumed to run locally and listen to port 9092."
   ]
  },
  {
   "cell_type": "code",
   "execution_count": 15,
   "metadata": {},
   "outputs": [],
   "source": [
    "producer = KafkaProducer(bootstrap_servers='localhost:9092')"
   ]
  },
  {
   "cell_type": "markdown",
   "metadata": {},
   "source": [
    "### Sampling the parameters of the multivariate Gaussian\n",
    "\n",
    "Instead of choosing arbitrary values for the mean vector or selecting\n",
    "a covariance matrix that may not be symmetric semi-definite,\n",
    "the normal-Wishart distribution is used to randomly generate\n",
    "these parameters before running the simulation. Covariance matrix is obtained\n",
    "by inverting the sampled precision matrix.\n",
    "The mean vector $\\mu$ and precision matrix $\\Lambda$ are sampled only once,\n",
    "and the coefficients of the linear model are sampled only once from the multivariate\n",
    "distribution $\\mathcal{N}(\\mu, \\lambda^{-1})$. More details about data generation can be found\n",
    "in the report."
   ]
  },
  {
   "cell_type": "code",
   "execution_count": 16,
   "metadata": {},
   "outputs": [],
   "source": [
    "class NormalWishart:\n",
    "    \"\"\"Normal-Wishart distribution.\n",
    "    \n",
    "    Attributes:\n",
    "        _mu0 (:obj:`np.ndarray`): location vector.\n",
    "        _D (int): Number of components.\n",
    "        _lambda (float): positive-only scalar.\n",
    "        _W (:obj:`np.ndarray`): positive definite scale matrix.\n",
    "        _nu (int): number of degrees of freedom.\n",
    "        _n (int): sample size.\n",
    "        _0 (:obj:`np.ndarray`): pre-allocated vector of zeros.\n",
    "    \"\"\"\n",
    "    \n",
    "    def __init__(self, mu0, _lambda, W, nu, n):\n",
    "        self._mu0 = np.asarray(mu0)\n",
    "        self._D = self._mu0.shape[0]\n",
    "        self._lambda = _lambda\n",
    "        self._W = np.asarray(W)\n",
    "        self._nu = nu\n",
    "        self._n = n\n",
    "        self._0 = np.zeros(self._nu)\n",
    "        # Make sure that degrees of freedom are sufficient\n",
    "        # and that the dimensionality if the scale matrix is correct.\n",
    "        assert((self._nu > self._D - 1) and (len(W) == self._nu))\n",
    "    \n",
    "    def sample(self):\n",
    "        \"\"\"Randomly generates a sample of `self._n` observations.\n",
    "        \n",
    "        returns:\n",
    "            :obj:`np.ndarray`: a random mean vector.\n",
    "            :obj:`np.ndarray`: a random precision matrix.\n",
    "        \"\"\"\n",
    "        # Randomly samples the mean vector\n",
    "        mu = np.random.multivariate_normal(self._mu0, self._W)\n",
    "        \n",
    "        # Randomly samples the precision matrix\n",
    "        G = np.random.multivariate_normal(self._0, self._W, size=self._n)\n",
    "        S = np.dot(G.T, G)\n",
    "        return mu, S"
   ]
  },
  {
   "cell_type": "markdown",
   "metadata": {},
   "source": [
    "Now that the normal-Wishart has been defined, the actual data generation algorithm remains to be implemented.\n",
    "Parameters $\\mu$, $\\Lambda$, $B$ are computed in the constructor of the Generator, in order to make sure\n",
    "that they are sampled only once. The hyper-parameters of the normal-Wishart distribution are the following:\n",
    "default parameter matrix $W_0$ is the diagonal matrix, prior mean vector $\\mu_0$\n",
    "is the zero vector, chosen scaling parameter is $1$, and $\\nu_0$ has been\n",
    "arbitrarily set to 15.\n",
    "\n",
    "Each time the generator samples new data, the counter is automatically incremented.\n",
    "$x$ is sampled using a uniform distribution $\\mathcal{U}(0, 1)$, $w$ is sampled using a Gaussian distribution $\\mathcal{N}(0, 1)$, and variable $y_j$ is computed as follows:\n",
    "$$\n",
    "y_j = B_{\\cdot j} x + w\n",
    "$$\n",
    "for each $j$. In practice, vector $y$ is computed in a vectorized fashion."
   ]
  },
  {
   "cell_type": "code",
   "execution_count": 17,
   "metadata": {},
   "outputs": [],
   "source": [
    "class Generator:\n",
    "    \"\"\"Data generator.\n",
    "    \n",
    "    Attributes:\n",
    "        _n_inputs (int): Number of explanatory variables.\n",
    "        _n_outputs (int): Number of explained variables.\n",
    "        _latent_dim (int): Latent dimension, represented by the\n",
    "            number of Gaussian observations to draw for\n",
    "            estimating the precision matrix.\n",
    "        _beta (:obj:`np.ndarray`): Variable weights.\n",
    "    \"\"\"\n",
    "    \n",
    "    def __init__(self, n_inputs, n_outputs, latent_dim=15):\n",
    "        self._counter = 0\n",
    "        self._n_inputs = n_inputs\n",
    "        self._n_outputs = n_outputs\n",
    "        self._latent_dim = latent_dim\n",
    "        \n",
    "        # Initializes NW distribution with the identity\n",
    "        # as scale matrix and a zero vector as location vector.\n",
    "        W = np.eye(self._n_inputs)\n",
    "        mu0 = np.zeros(self._n_inputs)\n",
    "        nu = self._n_inputs\n",
    "        nw = NormalWishart(mu0, 1., W, nu, self._latent_dim)\n",
    "        \n",
    "        # Lambda is a random precision matrix,\n",
    "        # and needs to be inverted in order to obtain\n",
    "        # a covariance matrix.\n",
    "        mu, Lambda = nw.sample()\n",
    "        Sigma = np.linalg.inv(Lambda)\n",
    "        \n",
    "        # Randomly initializes the variable weights\n",
    "        self._beta = np.random.multivariate_normal(mu, Sigma, self._n_outputs)\n",
    "    \n",
    "    def sample(self, sample_size=1):\n",
    "        \"\"\"Draw random samples from a multivariate Gaussian distribution.\n",
    "        \n",
    "        Parameters:\n",
    "            sample_size (int): Number of observations to draw.\n",
    "        \n",
    "        Returns:\n",
    "            :obj:`np.ndarray`: Array of shape (`sample_size`, `self._n_inputs`)\n",
    "                containing random values for the explanatory variables.\n",
    "            :obj:`np.ndarray`: Array of shape (`sample_size`, `self._n_outputs`)\n",
    "                containing Random values for the explained variables.\n",
    "            :obj:`np.ndarray`: Array of length `sample_size` containing the unique\n",
    "                identifiers of generated samples.\n",
    "        \"\"\"\n",
    "        # Generates unique identifiers\n",
    "        counters = np.arange(self._counter, self._counter + sample_size)\n",
    "        self._counter += sample_size\n",
    "        \n",
    "        # Samples explanatory variables\n",
    "        X = np.random.rand(sample_size, self._n_inputs)\n",
    "        \n",
    "        # Samples random noise\n",
    "        w = np.random.normal(0, 1, size=self._n_outputs) * 0.1\n",
    "        \n",
    "        # Computes outputs\n",
    "        y = np.dot(X, self._beta.T) + w\n",
    "        return np.squeeze(X), np.squeeze(y), counters\n",
    "    \n",
    "    @property\n",
    "    def beta(self):\n",
    "        return self._beta\n",
    "    \n",
    "    @property\n",
    "    def counter(self):\n",
    "        \"\"\"Returns current value for the sample counter.\n",
    "        \n",
    "        Returns:\n",
    "            int: Identifier of the next sample to be generated.\n",
    "        \"\"\"\n",
    "        return self._counter"
   ]
  },
  {
   "cell_type": "markdown",
   "metadata": {},
   "source": [
    "Let's define the dimensionality of the data:"
   ]
  },
  {
   "cell_type": "code",
   "execution_count": 18,
   "metadata": {},
   "outputs": [],
   "source": [
    "n = 10 # Number of inputs\n",
    "m = 8 # Number of outputs"
   ]
  },
  {
   "cell_type": "markdown",
   "metadata": {},
   "source": [
    "Let's test the generator with these parameters."
   ]
  },
  {
   "cell_type": "code",
   "execution_count": 19,
   "metadata": {},
   "outputs": [
    {
     "data": {
      "text/plain": [
       "(array([0.05203194, 0.12143488, 0.3856555 , 0.34441807, 0.67153769,\n",
       "        0.29619884, 0.61440962, 0.88948009, 0.72289516, 0.72536867]),\n",
       " array([2.33610669, 2.6005269 , 2.57951711, 3.59446197, 2.62726151,\n",
       "        2.03530953, 2.94350042, 3.14102941]),\n",
       " array([0]))"
      ]
     },
     "execution_count": 19,
     "metadata": {},
     "output_type": "execute_result"
    }
   ],
   "source": [
    "Generator(10, 8).sample()"
   ]
  },
  {
   "cell_type": "code",
   "execution_count": 21,
   "metadata": {},
   "outputs": [
    {
     "name": "stdout",
     "output_type": "stream",
     "text": [
      "beta: [[-1.52809964 -1.19204649  0.37486388 -1.21758472 -0.3247237  -0.02527817\n",
      "  -0.22016223  1.34798948  0.2111285   1.50931203]\n",
      " [-0.10457232  1.23308178  3.3438633   2.76157794 -0.56714695  2.69501417\n",
      "   0.24975084 -2.04759892 -2.06898235  1.07548952]\n",
      " [-0.18715959 -0.03208075  2.06709328 -0.02620484 -0.46086334  0.9233103\n",
      "  -0.13724642 -1.87379911 -1.24861593  0.67563011]\n",
      " [-0.91901068 -1.61524963  0.77555363 -1.56797555  0.07700233 -0.38671343\n",
      "   0.49605748  2.04485873  1.37608316  1.0653438 ]\n",
      " [-1.26663352 -1.30995445  0.37927989 -1.90849082 -0.32179531 -0.97661407\n",
      "   0.12366479  1.33673143  1.64246086  1.51802968]\n",
      " [-0.71142619 -0.89088105  1.02388561 -0.52274731 -0.23792444  0.79970074\n",
      "   0.36886396  0.55707933  0.19083248  1.48005592]\n",
      " [-0.56082966 -0.20478647  1.66907953 -0.54126108 -0.25420555  0.93459017\n",
      "  -0.30837298 -0.81894012 -0.73377583  0.76207092]\n",
      " [-1.27604373 -0.6243154   1.77747854 -0.67365805 -0.67426312  0.60112505\n",
      "  -0.15960459  0.32958887  0.22451513  0.60301772]]\n"
     ]
    },
    {
     "ename": "KeyboardInterrupt",
     "evalue": "",
     "output_type": "error",
     "traceback": [
      "\u001b[1;31m---------------------------------------------------------------------------\u001b[0m",
      "\u001b[1;31mKeyboardInterrupt\u001b[0m                         Traceback (most recent call last)",
      "\u001b[1;32m<ipython-input-21-b45d9855b215>\u001b[0m in \u001b[0;36m<module>\u001b[1;34m\u001b[0m\n\u001b[0;32m     23\u001b[0m \u001b[1;33m\u001b[0m\u001b[0m\n\u001b[0;32m     24\u001b[0m     \u001b[1;31m# Wait\u001b[0m\u001b[1;33m\u001b[0m\u001b[1;33m\u001b[0m\u001b[1;33m\u001b[0m\u001b[0m\n\u001b[1;32m---> 25\u001b[1;33m     \u001b[0mtime\u001b[0m\u001b[1;33m.\u001b[0m\u001b[0msleep\u001b[0m\u001b[1;33m(\u001b[0m\u001b[0mTIME_INTERVAL\u001b[0m\u001b[1;33m)\u001b[0m\u001b[1;33m\u001b[0m\u001b[1;33m\u001b[0m\u001b[0m\n\u001b[0m\u001b[0;32m     26\u001b[0m \u001b[1;33m\u001b[0m\u001b[0m\n",
      "\u001b[1;31mKeyboardInterrupt\u001b[0m: "
     ]
    }
   ],
   "source": [
    "# Waiting time before sending the next observation\n",
    "TIME_INTERVAL = 1\n",
    "\n",
    "# Create a new generator\n",
    "gen = Generator(n, m)\n",
    "\n",
    "# Let's see the coefficients B\n",
    "print('beta: %s' % str(gen.beta))\n",
    "\n",
    "# Loop for sending messages to Kafka with the topic dataLinearModel\n",
    "while True:\n",
    "    \n",
    "    # Sample an observation and concatenate the counter\n",
    "    # with the values of explanatory and explained variables.\n",
    "    x, y, counter = gen.sample()\n",
    "    arr = np.concatenate((counter, y, x))\n",
    "    \n",
    "    #print(arr)\n",
    "    \n",
    "    # Convert the array to text and send it to Kafka\n",
    "    message = np.array2string(arr, separator=',')\n",
    "    producer.send('dataLinearModel', message.encode())\n",
    "    \n",
    "    # Wait\n",
    "    time.sleep(TIME_INTERVAL)\n",
    "    "
   ]
  },
  {
   "cell_type": "code",
   "execution_count": null,
   "metadata": {},
   "outputs": [],
   "source": []
  }
 ],
 "metadata": {
  "kernelspec": {
   "display_name": "Python 3",
   "language": "python",
   "name": "python3"
  },
  "language_info": {
   "codemirror_mode": {
    "name": "ipython",
    "version": 3
   },
   "file_extension": ".py",
   "mimetype": "text/x-python",
   "name": "python",
   "nbconvert_exporter": "python",
   "pygments_lexer": "ipython3",
   "version": "3.7.1"
  }
 },
 "nbformat": 4,
 "nbformat_minor": 1
}

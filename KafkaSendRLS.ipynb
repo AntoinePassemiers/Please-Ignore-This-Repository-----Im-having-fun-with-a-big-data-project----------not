{
 "cells": [
  {
   "cell_type": "markdown",
   "metadata": {},
   "source": [
    "## Sending data to Kafka server\n",
    "\n",
    "This notebook relies on the Kafka Python client for sending messages to the Kafka cluster.\n",
    "Messages are data generated from a linear model with $n$ input variables and $m$ output variables:\n",
    "\n",
    "$$\n",
    "y_j = B_{\\dot j} x + w\n",
    "$$\n",
    "with $x \\in \\mathbb{R}^n$, $B \\in \\mathbb{n \\times m}$ and $y, w \\in \\mathbb{R}^m$.\n",
    "$w$ is Gaussian noise.\n",
    "\n",
    "Messages are sent every $interval$ seconds. They are list of size (n+m+1) where:\n",
    "* First element is the counter\n",
    "* Next $m$ elements are $y$ values\n",
    "* Last $n$ elements are $x$ values"
   ]
  },
  {
   "cell_type": "markdown",
   "metadata": {},
   "source": [
    "### General import"
   ]
  },
  {
   "cell_type": "code",
   "execution_count": 1,
   "metadata": {},
   "outputs": [],
   "source": [
    "from kafka import KafkaProducer\n",
    "import time\n",
    "import numpy as np\n",
    "import matplotlib as plt"
   ]
  },
  {
   "cell_type": "markdown",
   "metadata": {},
   "source": [
    "### Initialization of the Kafka producer\n",
    "\n",
    "The server is assumed to run locally and listen to port 9092."
   ]
  },
  {
   "cell_type": "code",
   "execution_count": 2,
   "metadata": {},
   "outputs": [],
   "source": [
    "producer = KafkaProducer(bootstrap_servers='localhost:9092')"
   ]
  },
  {
   "cell_type": "markdown",
   "metadata": {},
   "source": [
    "### Sampling the parameters of the multivariate Gaussian\n",
    "\n",
    "Instead of choosing arbitrary values for the mean vector or selecting\n",
    "a covariance matrix that may not be symmetric semi-definite,\n",
    "the normal-Wishart distribution is used to randomly generate\n",
    "these parameters before running the simulation. Covariance matrix is obtained\n",
    "by inverting the sampled precision matrix.\n",
    "The mean vector $\\mu$ and precision matrix $\\Lambda$ are sampled only once,\n",
    "and the coefficients of the linear model are sampled only once from the multivariate\n",
    "distribution $\\mathcal{N}(\\mu, \\lambda^{-1})$. More details about data generation can be found\n",
    "in the report."
   ]
  },
  {
   "cell_type": "code",
   "execution_count": 3,
   "metadata": {},
   "outputs": [],
   "source": [
    "class NormalWishart:\n",
    "    \"\"\"Normal-Wishart distribution.\n",
    "    \n",
    "    Attributes:\n",
    "        _mu0 (:obj:`np.ndarray`): location vector.\n",
    "        _D (int): Number of components.\n",
    "        _lambda (float): positive-only scalar.\n",
    "        _W (:obj:`np.ndarray`): positive definite scale matrix.\n",
    "        _nu (int): number of degrees of freedom.\n",
    "        _n (int): sample size.\n",
    "        _0 (:obj:`np.ndarray`): pre-allocated vector of zeros.\n",
    "    \"\"\"\n",
    "    \n",
    "    def __init__(self, mu0, _lambda, W, nu, n):\n",
    "        self._mu0 = np.asarray(mu0)\n",
    "        self._D = self._mu0.shape[0]\n",
    "        self._lambda = _lambda\n",
    "        self._W = np.asarray(W)\n",
    "        self._nu = nu\n",
    "        self._n = n\n",
    "        self._0 = np.zeros(self._nu)\n",
    "        # Make sure that degrees of freedom are sufficient\n",
    "        # and that the dimensionality if the scale matrix is correct.\n",
    "        assert((self._nu > self._D - 1) and (len(W) == self._nu))\n",
    "    \n",
    "    def sample(self):\n",
    "        \"\"\"Randomly generates a sample of `self._n` observations.\n",
    "        \n",
    "        returns:\n",
    "            :obj:`np.ndarray`: a random mean vector.\n",
    "            :obj:`np.ndarray`: a random precision matrix.\n",
    "        \"\"\"\n",
    "        # Randomly samples the mean vector\n",
    "        mu = np.random.multivariate_normal(self._mu0, self._W)\n",
    "        \n",
    "        # Randomly samples the precision matrix\n",
    "        G = np.random.multivariate_normal(self._0, self._W, size=self._n)\n",
    "        S = np.dot(G.T, G)\n",
    "        return mu, S"
   ]
  },
  {
   "cell_type": "markdown",
   "metadata": {},
   "source": [
    "Now that the normal-Wishart has been defined, the actual data generation algorithm remains to be implemented.\n",
    "Parameters $\\mu$, $\\Lambda$, $B$ are computed in the constructor of the Generator, in order to make sure\n",
    "that they are sampled only once. The hyper-parameters of the normal-Wishart distribution are the following:\n",
    "default parameter matrix $W_0$ is the diagonal matrix, prior mean vector $\\mu_0$\n",
    "is the zero vector, chosen scaling parameter is $1$, and $\\nu_0$ has been\n",
    "arbitrarily set to 15.\n",
    "\n",
    "Each time the generator samples new data, the counter is automatically incremented.\n",
    "$x$ is sampled using a uniform distribution $\\mathcal{U}(0, 1)$, $w$ is sampled using a Gaussian distribution $\\mathcal{N}(0, 1)$, and variable $y_j$ is computed as follows:\n",
    "$$\n",
    "y_j = B_{\\cdot j} x + w\n",
    "$$\n",
    "for each $j$. In practice, vector $y$ is computed in a vectorized fashion."
   ]
  },
  {
   "cell_type": "code",
   "execution_count": 4,
   "metadata": {},
   "outputs": [],
   "source": [
    "class Generator:\n",
    "    \"\"\"Data generator.\n",
    "    \n",
    "    Attributes:\n",
    "        _n_inputs (int): Number of explanatory variables.\n",
    "        _n_outputs (int): Number of explained variables.\n",
    "        _latent_dim (int): Latent dimension, represented by the\n",
    "            number of Gaussian observations to draw for\n",
    "            estimating the precision matrix.\n",
    "        _beta (:obj:`np.ndarray`): Variable weights.\n",
    "    \"\"\"\n",
    "    \n",
    "    def __init__(self, n_inputs, n_outputs, latent_dim=15):\n",
    "        self._counter = 0\n",
    "        self._n_inputs = n_inputs\n",
    "        self._n_outputs = n_outputs\n",
    "        self._latent_dim = latent_dim\n",
    "        \n",
    "        # Initializes NW distribution with the identity\n",
    "        # as scale matrix and a zero vector as location vector.\n",
    "        W = np.eye(self._n_inputs)\n",
    "        mu0 = np.zeros(self._n_inputs)\n",
    "        nu = self._n_inputs\n",
    "        nw = NormalWishart(mu0, 1., W, nu, self._latent_dim)\n",
    "        \n",
    "        # Lambda is a random precision matrix,\n",
    "        # and needs to be inverted in order to obtain\n",
    "        # a covariance matrix.\n",
    "        mu, Lambda = nw.sample()\n",
    "        Sigma = np.linalg.inv(Lambda)\n",
    "        \n",
    "        # Randomly initializes the variable weights\n",
    "        self._beta = np.random.multivariate_normal(mu, Sigma, self._n_outputs)\n",
    "    \n",
    "    def sample(self, sample_size=1):\n",
    "        \"\"\"Draw random samples from a multivariate Gaussian distribution.\n",
    "        \n",
    "        Parameters:\n",
    "            sample_size (int): Number of observations to draw.\n",
    "        \n",
    "        Returns:\n",
    "            :obj:`np.ndarray`: Array of shape (`sample_size`, `self._n_inputs`)\n",
    "                containing random values for the explanatory variables.\n",
    "            :obj:`np.ndarray`: Array of shape (`sample_size`, `self._n_outputs`)\n",
    "                containing Random values for the explained variables.\n",
    "            :obj:`np.ndarray`: Array of length `sample_size` containing the unique\n",
    "                identifiers of generated samples.\n",
    "        \"\"\"\n",
    "        # Generates unique identifiers\n",
    "        counters = np.arange(self._counter, self._counter + sample_size)\n",
    "        self._counter += sample_size\n",
    "        \n",
    "        # Samples explanatory variables\n",
    "        X = np.random.rand(sample_size, self._n_inputs)\n",
    "        \n",
    "        # Samples random noise\n",
    "        w = np.random.normal(0, 1, size=self._n_outputs) * 0.1\n",
    "        \n",
    "        # Computes outputs\n",
    "        y = np.dot(X, self._beta.T) + w\n",
    "        return np.squeeze(X), np.squeeze(y), counters\n",
    "    \n",
    "    @property\n",
    "    def beta(self):\n",
    "        return self._beta\n",
    "    \n",
    "    @property\n",
    "    def counter(self):\n",
    "        \"\"\"Returns current value for the sample counter.\n",
    "        \n",
    "        Returns:\n",
    "            int: Identifier of the next sample to be generated.\n",
    "        \"\"\"\n",
    "        return self._counter"
   ]
  },
  {
   "cell_type": "markdown",
   "metadata": {},
   "source": [
    "Let's define the dimensionality of the data:"
   ]
  },
  {
   "cell_type": "code",
   "execution_count": 5,
   "metadata": {},
   "outputs": [],
   "source": [
    "n = 10 # Number of inputs\n",
    "m = 8 # Number of outputs"
   ]
  },
  {
   "cell_type": "markdown",
   "metadata": {},
   "source": [
    "Let's test the generator with these parameters."
   ]
  },
  {
   "cell_type": "code",
   "execution_count": 13,
   "metadata": {},
   "outputs": [
    {
     "data": {
      "text/plain": [
       "(array([0.29311455, 0.09541923, 0.25294935, 0.90461192, 0.31660916,\n",
       "        0.21628202, 0.86068329, 0.85337652, 0.06117153, 0.09591472]),\n",
       " array([ 0.34642123, -0.09661949,  0.69663622,  0.76235547, -0.27186512,\n",
       "         0.48915591,  0.92408925,  1.85420393]),\n",
       " array([0]))"
      ]
     },
     "execution_count": 13,
     "metadata": {},
     "output_type": "execute_result"
    }
   ],
   "source": [
    "Generator(10, 8).sample()"
   ]
  },
  {
   "cell_type": "code",
   "execution_count": 11,
   "metadata": {},
   "outputs": [
    {
     "name": "stdout",
     "output_type": "stream",
     "text": [
      "beta: [[ 0.67096096  1.62272054 -0.04350657  0.76190821  0.27915542 -0.92009199\n",
      "   0.75251552  0.96051031  0.12702734 -0.22189986]\n",
      " [ 0.45158215  1.52465389  0.17136432  1.32806491  0.73294021 -0.79619713\n",
      "   1.26436157  1.02246963 -0.09546401  0.19348103]\n",
      " [ 0.60467334 -0.46399002  0.54392233  1.2777495   1.39623466 -0.71617532\n",
      "   1.06135513  0.83831317 -0.67125076 -0.70739602]\n",
      " [ 0.67183736  0.59650181  0.10901946  1.04807695  0.7043718  -0.9582969\n",
      "   0.88958936  0.59990975 -0.61420484 -0.42472034]\n",
      " [ 0.66463092  1.00656279  0.20028729  1.09136501  0.43948152 -1.19714787\n",
      "   1.17272188  1.00095635 -0.79871338 -0.36289474]\n",
      " [ 0.50669192  0.86953819  0.35188337  0.63813706 -0.27801352 -1.26849023\n",
      "   1.11517122  1.15698931 -2.05286212 -0.69816222]\n",
      " [ 0.32154452 -0.15310418  0.48471017  1.59678547  1.72277444 -0.6362342\n",
      "   0.7357768   0.2178628   0.23844441 -0.84115277]\n",
      " [ 0.69534023  0.92267164 -0.17876002  1.86570903  0.43905266 -1.06167573\n",
      "   0.80919231  0.79126414 -1.65308907 -0.0844286 ]]\n"
     ]
    },
    {
     "ename": "KeyboardInterrupt",
     "evalue": "",
     "output_type": "error",
     "traceback": [
      "\u001b[1;31m---------------------------------------------------------------------------\u001b[0m",
      "\u001b[1;31mKeyboardInterrupt\u001b[0m                         Traceback (most recent call last)",
      "\u001b[1;32m<ipython-input-11-3f63b5db2687>\u001b[0m in \u001b[0;36m<module>\u001b[1;34m\u001b[0m\n\u001b[0;32m     16\u001b[0m     \u001b[0mmessage\u001b[0m \u001b[1;33m=\u001b[0m \u001b[0mnp\u001b[0m\u001b[1;33m.\u001b[0m\u001b[0marray2string\u001b[0m\u001b[1;33m(\u001b[0m\u001b[0marr\u001b[0m\u001b[1;33m,\u001b[0m \u001b[0mseparator\u001b[0m\u001b[1;33m=\u001b[0m\u001b[1;34m','\u001b[0m\u001b[1;33m)\u001b[0m\u001b[1;33m\u001b[0m\u001b[1;33m\u001b[0m\u001b[0m\n\u001b[0;32m     17\u001b[0m     \u001b[0mproducer\u001b[0m\u001b[1;33m.\u001b[0m\u001b[0msend\u001b[0m\u001b[1;33m(\u001b[0m\u001b[1;34m'dataLinearModel'\u001b[0m\u001b[1;33m,\u001b[0m \u001b[0mmessage\u001b[0m\u001b[1;33m.\u001b[0m\u001b[0mencode\u001b[0m\u001b[1;33m(\u001b[0m\u001b[1;33m)\u001b[0m\u001b[1;33m)\u001b[0m\u001b[1;33m\u001b[0m\u001b[1;33m\u001b[0m\u001b[0m\n\u001b[1;32m---> 18\u001b[1;33m     \u001b[0mtime\u001b[0m\u001b[1;33m.\u001b[0m\u001b[0msleep\u001b[0m\u001b[1;33m(\u001b[0m\u001b[0mTIME_INTERVAL\u001b[0m\u001b[1;33m)\u001b[0m\u001b[1;33m\u001b[0m\u001b[1;33m\u001b[0m\u001b[0m\n\u001b[0m\u001b[0;32m     19\u001b[0m \u001b[1;33m\u001b[0m\u001b[0m\n",
      "\u001b[1;31mKeyboardInterrupt\u001b[0m: "
     ]
    }
   ],
   "source": [
    "# Waiting time before sending the next observation\n",
    "TIME_INTERVAL = 1\n",
    "\n",
    "# Create a new generator\n",
    "gen = Generator(n, m)\n",
    "\n",
    "# Let's see the coefficients B\n",
    "print('beta: %s' % str(gen.beta))\n",
    "\n",
    "# Loop for sending messages to Kafka with the topic dataLinearModel\n",
    "while True:\n",
    "    \n",
    "    # Sample an observation and concatenate the counter\n",
    "    # with the values of explanatory and explained variables.\n",
    "    x, y, counter = gen.sample()\n",
    "    arr = np.concatenate((counter, y, x))\n",
    "    \n",
    "    #print(arr)\n",
    "    \n",
    "    # Convert the array to text and send it to Kafka\n",
    "    message = np.array2string(arr, separator=',')\n",
    "    producer.send('dataLinearModel', message.encode())\n",
    "    \n",
    "    # Wait\n",
    "    time.sleep(TIME_INTERVAL)\n",
    "    "
   ]
  },
  {
   "cell_type": "code",
   "execution_count": null,
   "metadata": {},
   "outputs": [],
   "source": []
  }
 ],
 "metadata": {
  "kernelspec": {
   "display_name": "Python 3",
   "language": "python",
   "name": "python3"
  },
  "language_info": {
   "codemirror_mode": {
    "name": "ipython",
    "version": 3
   },
   "file_extension": ".py",
   "mimetype": "text/x-python",
   "name": "python",
   "nbconvert_exporter": "python",
   "pygments_lexer": "ipython3",
   "version": "3.7.1"
  }
 },
 "nbformat": 4,
 "nbformat_minor": 1
}

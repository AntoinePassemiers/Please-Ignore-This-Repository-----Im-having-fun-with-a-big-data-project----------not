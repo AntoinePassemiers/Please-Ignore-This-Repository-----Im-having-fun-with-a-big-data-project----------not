{
 "cells": [
  {
   "cell_type": "markdown",
   "metadata": {},
   "source": [
    "## Sending data to Kafka server\n",
    "\n",
    "This notebook uses the [Python client for the Apache Kafka distributed stream processing system](http://kafka-python.readthedocs.io/en/master/index.html) to send messages to a Kafka cluster. \n",
    "\n",
    "In this example, the messages are data generated from a linear model with $n$ input variables, i.e., \n",
    "\n",
    "$$\n",
    "y =x^T \\beta +w\n",
    "$$\n",
    "with $x, \\beta \\in \\mathbb{R}^n$, and $y, w \\in \\mathbb{R}$. $w$ is Gaussian noise.\n",
    "\n",
    "Messages are sent every $interval$ seconds. They are list of size (n+2) where:\n",
    "* First element is the counter \n",
    "* Second element is $y$ \n",
    "* Third to last elements are $x$ values (size $n$)\n"
   ]
  },
  {
   "cell_type": "code",
   "execution_count": 1,
   "metadata": {},
   "outputs": [],
   "source": [
    "from kafka import KafkaProducer\n",
    "import time\n",
    "import numpy as np\n",
    "import matplotlib as plt"
   ]
  },
  {
   "cell_type": "code",
   "execution_count": 2,
   "metadata": {},
   "outputs": [],
   "source": [
    "producer = KafkaProducer(bootstrap_servers='localhost:9092')"
   ]
  },
  {
   "cell_type": "code",
   "execution_count": 3,
   "metadata": {},
   "outputs": [],
   "source": [
    "class NormalWishart:\n",
    "    \"\"\"Normal-Wishart distribution.\n",
    "    \n",
    "    Attributes:\n",
    "        _mu0 (:obj:`np.ndarray`): location vector.\n",
    "        _D (int): Number of components.\n",
    "        _lambda (float): positive-only scalar.\n",
    "        _W (:obj:`np.ndarray`): positive definite scale matrix.\n",
    "        _nu (int): number of degrees of freedom.\n",
    "        _n (int): sample size.\n",
    "        _0 (:obj:`np.ndarray`): pre-allocated vector of zeros.\n",
    "    \"\"\"\n",
    "    \n",
    "    def __init__(self, mu0, _lambda, W, nu, n):\n",
    "        self._mu0 = np.asarray(mu0)\n",
    "        self._D = self._mu0.shape[0]\n",
    "        self._lambda = _lambda\n",
    "        self._W = np.asarray(W)\n",
    "        self._nu = nu\n",
    "        self._n = n\n",
    "        self._0 = np.zeros(self._nu)\n",
    "        # Make sure that degrees of freedom are sufficient\n",
    "        # and that the dimensionality if the scale matrix is correct.\n",
    "        assert((self._nu > self._D - 1) and (len(W) == self._nu))\n",
    "    \n",
    "    def sample(self):\n",
    "        \"\"\"Randomly generates a sample of `self._n` observations.\n",
    "        \n",
    "        returns:\n",
    "            :obj:`np.ndarray`: a random mean vector.\n",
    "            :obj:`np.ndarray`: a random precision matrix.\n",
    "        \"\"\"\n",
    "        # Randomly samples the mean vector\n",
    "        mu = np.random.multivariate_normal(self._mu0, self._W)\n",
    "        \n",
    "        # Randomly samples the precision matrix\n",
    "        G = np.random.multivariate_normal(self._0, self._W, size=self._n)\n",
    "        S = np.dot(G.T, G)\n",
    "        return mu, S"
   ]
  },
  {
   "cell_type": "code",
   "execution_count": 4,
   "metadata": {},
   "outputs": [],
   "source": [
    "class Generator:\n",
    "    \"\"\"Data generator.\n",
    "    \n",
    "    Attributes:\n",
    "        _n_inputs (int): Number of explanatory variables.\n",
    "        _n_outputs (int): Number of explained variables.\n",
    "        _latent_dim (int): Latent dimension, represented by the\n",
    "            number of Gaussian observations to draw for\n",
    "            estimating the precision matrix.\n",
    "        _beta (:obj:`np.ndarray`): Variable weights.\n",
    "    \"\"\"\n",
    "    \n",
    "    def __init__(self, n_inputs, n_outputs, latent_dim=15):\n",
    "        self._counter = 0\n",
    "        self._n_inputs = n_inputs\n",
    "        self._n_outputs = n_outputs\n",
    "        self._latent_dim = latent_dim\n",
    "        \n",
    "        # Initializes NW distribution with the identity\n",
    "        # as scale matrix and a zero vector as location vector.\n",
    "        W = np.eye(self._n_inputs)\n",
    "        mu0 = np.zeros(self._n_inputs)\n",
    "        nu = self._n_inputs\n",
    "        nw = NormalWishart(mu0, 1., W, nu, self._latent_dim)\n",
    "        \n",
    "        # Lambda is a random precision matrix,\n",
    "        # and needs to be inverted in order to obtain\n",
    "        # a covariance matrix.\n",
    "        mu, Lambda = nw.sample()\n",
    "        Sigma = np.linalg.inv(Lambda)\n",
    "        \n",
    "        # Randomly initializes the variable weights\n",
    "        self._beta = np.random.multivariate_normal(mu, Sigma, self._n_outputs)\n",
    "    \n",
    "    def sample(self, sample_size=1):\n",
    "        \"\"\"Draw random samples from a multivariate Gaussian distribution.\n",
    "        \n",
    "        Parameters:\n",
    "            sample_size (int): Number of observations to draw.\n",
    "        \n",
    "        Returns:\n",
    "            :obj:`np.ndarray`: Array of shape (`sample_size`, `self._n_inputs`)\n",
    "                containing random values for the explanatory variables.\n",
    "            :obj:`np.ndarray`: Array of shape (`sample_size`, `self._n_outputs`)\n",
    "                containing Random values for the explained variables.\n",
    "            :obj:`np.ndarray`: Array of length `sample_size` containing the unique\n",
    "                identifiers of generated samples.\n",
    "        \"\"\"\n",
    "        # Generates unique identifiers\n",
    "        counters = np.arange(self._counter, self._counter + sample_size)\n",
    "        self._counter += sample_size\n",
    "        \n",
    "        # Samples explanatory variables\n",
    "        X = np.random.rand(sample_size, self._n_inputs)\n",
    "        \n",
    "        # Samples random noise\n",
    "        w = np.random.normal(0, 1, size=self._n_outputs) * 0.1\n",
    "        \n",
    "        # Computes outputs\n",
    "        y = np.dot(X, self._beta.T) + w\n",
    "        return np.squeeze(X), np.squeeze(y), counters\n",
    "    \n",
    "    @property\n",
    "    def beta(self):\n",
    "        return self._beta\n",
    "    \n",
    "    @property\n",
    "    def counter(self):\n",
    "        \"\"\"Returns current value for the sample counter.\n",
    "        \n",
    "        Returns:\n",
    "            int: Identifier of the next sample to be generated.\n",
    "        \"\"\"\n",
    "        return self._counter"
   ]
  },
  {
   "cell_type": "code",
   "execution_count": 5,
   "metadata": {},
   "outputs": [],
   "source": [
    "n = 10 # Number of inputs\n",
    "m = 8 # Number of outputs\n",
    "\n",
    "n_models = 6"
   ]
  },
  {
   "cell_type": "code",
   "execution_count": 6,
   "metadata": {},
   "outputs": [
    {
     "data": {
      "text/plain": [
       "(array([0.63005893, 0.43323915, 0.41965043, 0.75887481, 0.84093609,\n",
       "        0.25743898, 0.80655364, 0.29180842, 0.17620812, 0.3565675 ]),\n",
       " array([2.30136192, 1.42930032, 1.46511899, 1.51555191, 2.02273809,\n",
       "        1.91264073, 1.3688976 , 1.07686505]),\n",
       " array([0]))"
      ]
     },
     "execution_count": 6,
     "metadata": {},
     "output_type": "execute_result"
    }
   ],
   "source": [
    "gen = Generator(10, 8)\n",
    "gen.sample()"
   ]
  },
  {
   "cell_type": "code",
   "execution_count": null,
   "metadata": {},
   "outputs": [
    {
     "name": "stdout",
     "output_type": "stream",
     "text": [
      "beta: [[ 0.04999734  2.22922191  0.64776345 -1.35174686  1.45025298 -0.57287667\n",
      "   0.1591668   0.9256341  -0.47154562  1.24734486]\n",
      " [-0.17381563  2.09452095 -0.0214811  -0.69715385  2.22256245 -0.22321851\n",
      "   0.55433158  0.54801595  0.35102829  0.42000597]\n",
      " [-0.69010133  0.8858062   0.15654393 -1.33572736  0.75606331 -0.09945067\n",
      "   0.02126802  1.60031293 -0.60808223  1.16340666]\n",
      " [-0.7651876   1.70914799  1.03180331 -1.12608898  0.75992093  0.33461455\n",
      "   0.33132817  1.28949043 -0.40251148  2.47122849]\n",
      " [-0.28411374  1.80858853 -0.27723884 -0.72318038  1.83048786 -0.90524121\n",
      "   0.89711907  1.07975923 -0.0181386  -0.37521333]\n",
      " [-0.43098733  1.68965667  0.58693057 -1.73791254  1.28425738  0.56428111\n",
      "  -0.30134754  0.99810276 -0.52060576  1.30048181]\n",
      " [-1.19306451  2.00825084 -0.2666904  -0.59411742  1.74717222 -1.02882489\n",
      "   0.31720957  1.55169703  0.29879952 -0.25403411]\n",
      " [ 0.21585186  1.7405864   1.17806856 -1.64294489  1.2250097  -0.33884547\n",
      "   0.50272814  0.91959732 -0.41674601  1.55990352]]\n"
     ]
    }
   ],
   "source": [
    "TIME_INTERVAL = 1\n",
    "\n",
    "n = 10 # Number of inputs\n",
    "m = 8 # Number of outputs\n",
    "\n",
    "gen = Generator(n, m)\n",
    "\n",
    "print('beta: %s' % str(gen.beta))\n",
    "\n",
    "# Loop for sending messages to Kafka with the topic dataLinearModel\n",
    "while True:\n",
    "    \n",
    "    x, y, counter = gen.sample()\n",
    "    arr = np.concatenate((counter, y, x))\n",
    "    #print(arr)\n",
    "    message = np.array2string(arr, separator=',')\n",
    "    producer.send('dataLinearModel', message.encode())\n",
    "    time.sleep(TIME_INTERVAL)\n",
    "    "
   ]
  },
  {
   "cell_type": "code",
   "execution_count": null,
   "metadata": {},
   "outputs": [],
   "source": []
  }
 ],
 "metadata": {
  "kernelspec": {
   "display_name": "Python 3",
   "language": "python",
   "name": "python3"
  },
  "language_info": {
   "codemirror_mode": {
    "name": "ipython",
    "version": 3
   },
   "file_extension": ".py",
   "mimetype": "text/x-python",
   "name": "python",
   "nbconvert_exporter": "python",
   "pygments_lexer": "ipython3",
   "version": "3.7.1"
  }
 },
 "nbformat": 4,
 "nbformat_minor": 1
}
